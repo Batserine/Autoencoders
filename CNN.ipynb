{
  "nbformat": 4,
  "nbformat_minor": 0,
  "metadata": {
    "kernelspec": {
      "name": "python3",
      "display_name": "Python 3"
    },
    "language_info": {
      "codemirror_mode": {
        "name": "ipython",
        "version": 3
      },
      "file_extension": ".py",
      "mimetype": "text/x-python",
      "name": "python",
      "nbconvert_exporter": "python",
      "pygments_lexer": "ipython3",
      "version": "3.6.8"
    },
    "colab": {
      "name": "CNN.ipynb",
      "provenance": []
    },
    "accelerator": "TPU"
  },
  "cells": [
    {
      "cell_type": "code",
      "metadata": {
        "id": "LvHaL-VCe0ZG",
        "colab_type": "code",
        "outputId": "cd0e0193-d112-4c34-a514-995650735108",
        "colab": {
          "base_uri": "https://localhost:8080/",
          "height": 80
        }
      },
      "source": [
        "import numpy as np\n",
        "import keras\n",
        "import matplotlib.pyplot as plt\n",
        "\n",
        "from keras.models import Model, Sequential\n",
        "from keras.layers import Input, Dense, Dropout, Activation, Flatten, LeakyReLU, Reshape, BatchNormalization\n",
        "from keras.layers.convolutional import Conv2D, Conv2DTranspose, MaxPooling2D, UpSampling2D\n",
        "from keras.callbacks import ModelCheckpoint,TensorBoard, EarlyStopping\n",
        "from keras.utils import np_utils\n",
        "\n",
        "# Load data\n",
        "from keras.datasets import mnist "
      ],
      "execution_count": 1,
      "outputs": [
        {
          "output_type": "stream",
          "text": [
            "Using TensorFlow backend.\n"
          ],
          "name": "stderr"
        },
        {
          "output_type": "display_data",
          "data": {
            "text/html": [
              "<p style=\"color: red;\">\n",
              "The default version of TensorFlow in Colab will soon switch to TensorFlow 2.x.<br>\n",
              "We recommend you <a href=\"https://www.tensorflow.org/guide/migrate\" target=\"_blank\">upgrade</a> now \n",
              "or ensure your notebook will continue to use TensorFlow 1.x via the <code>%tensorflow_version 1.x</code> magic:\n",
              "<a href=\"https://colab.research.google.com/notebooks/tensorflow_version.ipynb\" target=\"_blank\">more info</a>.</p>\n"
            ],
            "text/plain": [
              "<IPython.core.display.HTML object>"
            ]
          },
          "metadata": {
            "tags": []
          }
        }
      ]
    },
    {
      "cell_type": "code",
      "metadata": {
        "id": "OmksfTmse0ZY",
        "colab_type": "code",
        "outputId": "efcf4d8f-90d0-4be0-acef-9b367f59b328",
        "colab": {
          "base_uri": "https://localhost:8080/",
          "height": 282
        }
      },
      "source": [
        "# input image dimensions\n",
        "img_rows, img_cols = 28, 28                          \n",
        "input_shape = (img_rows, img_cols, 1)\n",
        "\n",
        "# the data, shuffled and split between train and test sets\n",
        "(x_train, _), (x_test, _) = mnist.load_data()\n",
        " \n",
        "x_train = x_train.reshape(x_train.shape[0], img_rows, img_cols, 1)\n",
        "x_test = x_test.reshape(x_test.shape[0], img_rows, img_cols, 1)\n",
        " \n",
        "x_train = x_train.astype('float32') / 255\n",
        "x_test = x_test.astype('float32') / 255\n",
        "\n",
        "# add random normalization to the trained images i.e; Adding noise using Gaussian Distribution\n",
        "\n",
        "noise_factor = 0.5\n",
        "x_train_noisy = x_train + noise_factor * np.random.normal(loc=0.0, scale=1.0, size=x_train.shape)\n",
        "x_test_noisy = x_test + noise_factor * np.random.normal(loc=0.0, scale=1.0, size=x_test.shape)\n",
        "x_train_noisy = np.clip(x_train_noisy, 0., 1.)\n",
        "x_test_noisy = np.clip(x_test_noisy, 0., 1.)\n",
        "\n",
        "print(x_train.shape[0], ' train samples')\n",
        "print(x_test.shape[0], ' test samples')\n",
        "\n",
        "plt.figure(figsize=(20, 4))\n",
        "for i in range(1,11):\n",
        "    ax = plt.subplot(2, 10, i)\n",
        "    plt.imshow(x_train[i].reshape(28, 28))\n",
        "    plt.gray()\n",
        "    ax.get_xaxis().set_visible(False)\n",
        "    ax.get_yaxis().set_visible(False)\n",
        "\n",
        "    ax = plt.subplot(2, 10, i+10)\n",
        "    plt.imshow(x_test[i].reshape(28, 28))\n",
        "    plt.gray()\n",
        "    ax.get_xaxis().set_visible(False)\n",
        "    ax.get_yaxis().set_visible(False)\n",
        "plt.show()"
      ],
      "execution_count": 2,
      "outputs": [
        {
          "output_type": "stream",
          "text": [
            "60000  train samples\n",
            "10000  test samples\n"
          ],
          "name": "stdout"
        },
        {
          "output_type": "display_data",
          "data": {
            "image/png": "[encoded data removed]",
            "text/plain": [
              "<Figure size 1440x288 with 20 Axes>"
            ]
          },
          "metadata": {
            "tags": []
          }
        }
      ]
    },
    {
      "cell_type": "code",
      "metadata": {
        "id": "-nxWOR2ie0Zo",
        "colab_type": "code",
        "colab": {}
      },
      "source": [
        "def CNN(features_shape, act='relu'):\n",
        "\n",
        "    # Input\n",
        "    x = Input(name='inputs', shape=features_shape, dtype='float32')\n",
        "    o = x\n",
        "    # chanDim = -1\n",
        "    # latentDim = 16\n",
        "    \n",
        "    # Encoder\n",
        "    o = Conv2D(16, (3, 3), activation=act, padding='same', strides=(1,1), name='encoder1')(o)\n",
        "    o = MaxPooling2D((2, 2), strides=(2,2), padding='same', name='en_pool1')(o)\n",
        "    o = Conv2D(8, (3, 3), activation=act, padding='same', strides=(1,1), name='encoder2')(o)\n",
        "    o = MaxPooling2D((2, 2), strides=(2,2), padding='same', name='en_pool2')(o)\n",
        "    o = Conv2D(8, (3, 3), activation=act, padding='same', strides=(1,1), name='encoder3')(o)\n",
        "    enc = MaxPooling2D((2, 2), strides=(2,2), padding='same', name='en_pool3')(o)\n",
        "    \n",
        "    # Decoder\n",
        "    o = Conv2D(8, (3, 3), activation=act, padding='same', strides=(1,1), name='decoder1')(enc)\n",
        "    o = UpSampling2D((2, 2), name='UpSampling1')(o)\n",
        "    o = Conv2D(8, (3, 3), activation=act, padding='same', strides=(1,1), name='decoder2')(o)\n",
        "    o = UpSampling2D((2, 2), name='UpSampling2')(o)\n",
        "    o = Conv2D(16, (3, 3), activation=act, strides=(1,1), name='decoder3')(o)\n",
        "    o = UpSampling2D((2, 2), name='UpSampling3')(o)\n",
        "    dec = Conv2DTranspose(1, (3, 3), activation='sigmoid', padding='same', strides=(1,1), name='decoder4')(o)  \n",
        "    \n",
        "    # Print network summary\n",
        "    Model(inputs=x, outputs=dec).summary()\n",
        "    \n",
        "    return Model(inputs=x, outputs=dec)"
      ],
      "execution_count": 0,
      "outputs": []
    },
    {
      "cell_type": "code",
      "metadata": {
        "id": "f4S766ewe0bF",
        "colab_type": "code",
        "outputId": "1dcf06e0-a58d-4fa7-d4c7-89b2b9d929b8",
        "colab": {
          "base_uri": "https://localhost:8080/",
          "height": 1000
        }
      },
      "source": [
        "batch_size = 128\n",
        "epochs = 100\n",
        " \n",
        "autoencoder = CNN(input_shape, act=LeakyReLU(alpha=0.2))\n",
        "autoencoder.compile(optimizer='adam', loss='binary_crossentropy')\n",
        " \n",
        "# simple early stopping\n",
        "es = EarlyStopping(monitor='val_loss', mode='min', verbose=1) \n",
        "H = autoencoder.fit(x_train_noisy, x_train, epochs=epochs, batch_size=batch_size, shuffle=True, validation_data=(x_test_noisy, x_test))\n",
        "\n",
        "decoded_imgs = autoencoder.predict(x_test_noisy)"
      ],
      "execution_count": 4,
      "outputs": [
        {
          "output_type": "stream",
          "text": [
            "WARNING:tensorflow:From /usr/local/lib/python3.6/dist-packages/keras/backend/tensorflow_backend.py:66: The name tf.get_default_graph is deprecated. Please use tf.compat.v1.get_default_graph instead.\n",
            "\n",
            "WARNING:tensorflow:From /usr/local/lib/python3.6/dist-packages/keras/backend/tensorflow_backend.py:541: The name tf.placeholder is deprecated. Please use tf.compat.v1.placeholder instead.\n",
            "\n",
            "WARNING:tensorflow:From /usr/local/lib/python3.6/dist-packages/keras/backend/tensorflow_backend.py:4432: The name tf.random_uniform is deprecated. Please use tf.random.uniform instead.\n",
            "\n",
            "WARNING:tensorflow:From /usr/local/lib/python3.6/dist-packages/keras/backend/tensorflow_backend.py:4267: The name tf.nn.max_pool is deprecated. Please use tf.nn.max_pool2d instead.\n",
            "\n",
            "WARNING:tensorflow:From /usr/local/lib/python3.6/dist-packages/keras/backend/tensorflow_backend.py:2239: The name tf.image.resize_nearest_neighbor is deprecated. Please use tf.compat.v1.image.resize_nearest_neighbor instead.\n",
            "\n",
            "Model: \"model_1\"\n",
            "_________________________________________________________________\n",
            "Layer (type)                 Output Shape              Param #   \n",
            "=================================================================\n",
            "inputs (InputLayer)          (None, 28, 28, 1)         0         \n",
            "_________________________________________________________________\n",
            "encoder1 (Conv2D)            (None, 28, 28, 16)        160       \n",
            "_________________________________________________________________\n",
            "en_pool1 (MaxPooling2D)      (None, 14, 14, 16)        0         \n",
            "_________________________________________________________________\n",
            "encoder2 (Conv2D)            (None, 14, 14, 8)         1160      \n",
            "_________________________________________________________________\n",
            "en_pool2 (MaxPooling2D)      (None, 7, 7, 8)           0         \n",
            "_________________________________________________________________\n",
            "encoder3 (Conv2D)            (None, 7, 7, 8)           584       \n",
            "_________________________________________________________________\n",
            "en_pool3 (MaxPooling2D)      (None, 4, 4, 8)           0         \n",
            "_________________________________________________________________\n",
            "decoder1 (Conv2D)            (None, 4, 4, 8)           584       \n",
            "_________________________________________________________________\n",
            "UpSampling1 (UpSampling2D)   (None, 8, 8, 8)           0         \n",
            "_________________________________________________________________\n",
            "decoder2 (Conv2D)            (None, 8, 8, 8)           584       \n",
            "_________________________________________________________________\n",
            "UpSampling2 (UpSampling2D)   (None, 16, 16, 8)         0         \n",
            "_________________________________________________________________\n",
            "decoder3 (Conv2D)            (None, 14, 14, 16)        1168      \n",
            "_________________________________________________________________\n",
            "UpSampling3 (UpSampling2D)   (None, 28, 28, 16)        0         \n",
            "_________________________________________________________________\n",
            "decoder4 (Conv2DTranspose)   (None, 28, 28, 1)         145       \n",
            "=================================================================\n",
            "Total params: 4,385\n",
            "Trainable params: 4,385\n",
            "Non-trainable params: 0\n",
            "_________________________________________________________________\n",
            "WARNING:tensorflow:From /usr/local/lib/python3.6/dist-packages/keras/optimizers.py:793: The name tf.train.Optimizer is deprecated. Please use tf.compat.v1.train.Optimizer instead.\n",
            "\n",
            "WARNING:tensorflow:From /usr/local/lib/python3.6/dist-packages/keras/backend/tensorflow_backend.py:3657: The name tf.log is deprecated. Please use tf.math.log instead.\n",
            "\n",
            "WARNING:tensorflow:From /usr/local/lib/python3.6/dist-packages/tensorflow_core/python/ops/nn_impl.py:183: where (from tensorflow.python.ops.array_ops) is deprecated and will be removed in a future version.\n",
            "Instructions for updating:\n",
            "Use tf.where in 2.0, which has the same broadcast rule as np.where\n"
          ],
          "name": "stdout"
        },
        {
          "output_type": "stream",
          "text": [
            "/usr/local/lib/python3.6/dist-packages/keras/activations.py:235: UserWarning: Do not pass a layer instance (such as LeakyReLU) as the activation argument of another layer. Instead, advanced activation layers should be used just like any other layer in a model.\n",
            "  identifier=identifier.__class__.__name__))\n"
          ],
          "name": "stderr"
        },
        {
          "output_type": "stream",
          "text": [
            "WARNING:tensorflow:From /usr/local/lib/python3.6/dist-packages/keras/backend/tensorflow_backend.py:1033: The name tf.assign_add is deprecated. Please use tf.compat.v1.assign_add instead.\n",
            "\n",
            "WARNING:tensorflow:From /usr/local/lib/python3.6/dist-packages/keras/backend/tensorflow_backend.py:1020: The name tf.assign is deprecated. Please use tf.compat.v1.assign instead.\n",
            "\n",
            "WARNING:tensorflow:From /usr/local/lib/python3.6/dist-packages/keras/backend/tensorflow_backend.py:3005: The name tf.Session is deprecated. Please use tf.compat.v1.Session instead.\n",
            "\n",
            "Train on 60000 samples, validate on 10000 samples\n",
            "Epoch 1/100\n",
            "WARNING:tensorflow:From /usr/local/lib/python3.6/dist-packages/keras/backend/tensorflow_backend.py:190: The name tf.get_default_session is deprecated. Please use tf.compat.v1.get_default_session instead.\n",
            "\n",
            "WARNING:tensorflow:From /usr/local/lib/python3.6/dist-packages/keras/backend/tensorflow_backend.py:197: The name tf.ConfigProto is deprecated. Please use tf.compat.v1.ConfigProto instead.\n",
            "\n",
            "WARNING:tensorflow:From /usr/local/lib/python3.6/dist-packages/keras/backend/tensorflow_backend.py:207: The name tf.global_variables is deprecated. Please use tf.compat.v1.global_variables instead.\n",
            "\n",
            "WARNING:tensorflow:From /usr/local/lib/python3.6/dist-packages/keras/backend/tensorflow_backend.py:216: The name tf.is_variable_initialized is deprecated. Please use tf.compat.v1.is_variable_initialized instead.\n",
            "\n",
            "WARNING:tensorflow:From /usr/local/lib/python3.6/dist-packages/keras/backend/tensorflow_backend.py:223: The name tf.variables_initializer is deprecated. Please use tf.compat.v1.variables_initializer instead.\n",
            "\n",
            "60000/60000 [==============================] - 7s 118us/step - loss: 0.2652 - val_loss: 0.1943\n",
            "Epoch 2/100\n",
            "60000/60000 [==============================] - 5s 76us/step - loss: 0.1824 - val_loss: 0.1726\n",
            "Epoch 3/100\n",
            "60000/60000 [==============================] - 5s 77us/step - loss: 0.1677 - val_loss: 0.1610\n",
            "Epoch 4/100\n",
            "60000/60000 [==============================] - 4s 74us/step - loss: 0.1587 - val_loss: 0.1536\n",
            "Epoch 5/100\n",
            "60000/60000 [==============================] - 4s 74us/step - loss: 0.1528 - val_loss: 0.1488\n",
            "Epoch 6/100\n",
            "60000/60000 [==============================] - 4s 75us/step - loss: 0.1482 - val_loss: 0.1450\n",
            "Epoch 7/100\n",
            "60000/60000 [==============================] - 4s 74us/step - loss: 0.1444 - val_loss: 0.1414\n",
            "Epoch 8/100\n",
            "60000/60000 [==============================] - 4s 73us/step - loss: 0.1414 - val_loss: 0.1388\n",
            "Epoch 9/100\n",
            "60000/60000 [==============================] - 5s 75us/step - loss: 0.1390 - val_loss: 0.1373\n",
            "Epoch 10/100\n",
            "60000/60000 [==============================] - 5s 81us/step - loss: 0.1370 - val_loss: 0.1352\n",
            "Epoch 11/100\n",
            "60000/60000 [==============================] - 5s 78us/step - loss: 0.1355 - val_loss: 0.1332\n",
            "Epoch 12/100\n",
            "60000/60000 [==============================] - 4s 75us/step - loss: 0.1341 - val_loss: 0.1323\n",
            "Epoch 13/100\n",
            "60000/60000 [==============================] - 4s 72us/step - loss: 0.1331 - val_loss: 0.1318\n",
            "Epoch 14/100\n",
            "60000/60000 [==============================] - 4s 71us/step - loss: 0.1321 - val_loss: 0.1308\n",
            "Epoch 15/100\n",
            "60000/60000 [==============================] - 5s 76us/step - loss: 0.1314 - val_loss: 0.1303\n",
            "Epoch 16/100\n",
            "60000/60000 [==============================] - 4s 72us/step - loss: 0.1305 - val_loss: 0.1292\n",
            "Epoch 17/100\n",
            "60000/60000 [==============================] - 4s 75us/step - loss: 0.1299 - val_loss: 0.1282\n",
            "Epoch 18/100\n",
            "60000/60000 [==============================] - 4s 74us/step - loss: 0.1293 - val_loss: 0.1277\n",
            "Epoch 19/100\n",
            "60000/60000 [==============================] - 4s 75us/step - loss: 0.1288 - val_loss: 0.1279\n",
            "Epoch 20/100\n",
            "60000/60000 [==============================] - 5s 76us/step - loss: 0.1283 - val_loss: 0.1274\n",
            "Epoch 21/100\n",
            "60000/60000 [==============================] - 4s 74us/step - loss: 0.1278 - val_loss: 0.1267\n",
            "Epoch 22/100\n",
            "60000/60000 [==============================] - 4s 75us/step - loss: 0.1273 - val_loss: 0.1274\n",
            "Epoch 23/100\n",
            "60000/60000 [==============================] - 5s 78us/step - loss: 0.1270 - val_loss: 0.1254\n",
            "Epoch 24/100\n",
            "60000/60000 [==============================] - 5s 75us/step - loss: 0.1266 - val_loss: 0.1252\n",
            "Epoch 25/100\n",
            "60000/60000 [==============================] - 5s 78us/step - loss: 0.1262 - val_loss: 0.1250\n",
            "Epoch 26/100\n",
            "60000/60000 [==============================] - 4s 74us/step - loss: 0.1259 - val_loss: 0.1246\n",
            "Epoch 27/100\n",
            "60000/60000 [==============================] - 5s 75us/step - loss: 0.1255 - val_loss: 0.1242\n",
            "Epoch 28/100\n",
            "60000/60000 [==============================] - 4s 74us/step - loss: 0.1253 - val_loss: 0.1240\n",
            "Epoch 29/100\n",
            "60000/60000 [==============================] - 4s 75us/step - loss: 0.1250 - val_loss: 0.1238\n",
            "Epoch 30/100\n",
            "60000/60000 [==============================] - 4s 72us/step - loss: 0.1247 - val_loss: 0.1233\n",
            "Epoch 31/100\n",
            "60000/60000 [==============================] - 4s 74us/step - loss: 0.1244 - val_loss: 0.1231\n",
            "Epoch 32/100\n",
            "60000/60000 [==============================] - 4s 71us/step - loss: 0.1242 - val_loss: 0.1229\n",
            "Epoch 33/100\n",
            "60000/60000 [==============================] - 4s 75us/step - loss: 0.1240 - val_loss: 0.1245\n",
            "Epoch 34/100\n",
            "60000/60000 [==============================] - 4s 75us/step - loss: 0.1237 - val_loss: 0.1228\n",
            "Epoch 35/100\n",
            "60000/60000 [==============================] - 5s 76us/step - loss: 0.1235 - val_loss: 0.1220\n",
            "Epoch 36/100\n",
            "60000/60000 [==============================] - 5s 77us/step - loss: 0.1233 - val_loss: 0.1222\n",
            "Epoch 37/100\n",
            "60000/60000 [==============================] - 5s 76us/step - loss: 0.1231 - val_loss: 0.1216\n",
            "Epoch 38/100\n",
            "60000/60000 [==============================] - 5s 77us/step - loss: 0.1229 - val_loss: 0.1217\n",
            "Epoch 39/100\n",
            "60000/60000 [==============================] - 4s 74us/step - loss: 0.1227 - val_loss: 0.1219\n",
            "Epoch 40/100\n",
            "60000/60000 [==============================] - 4s 74us/step - loss: 0.1225 - val_loss: 0.1210\n",
            "Epoch 41/100\n",
            "60000/60000 [==============================] - 4s 71us/step - loss: 0.1223 - val_loss: 0.1214\n",
            "Epoch 42/100\n",
            "60000/60000 [==============================] - 5s 76us/step - loss: 0.1222 - val_loss: 0.1211\n",
            "Epoch 43/100\n",
            "60000/60000 [==============================] - 4s 75us/step - loss: 0.1220 - val_loss: 0.1209\n",
            "Epoch 44/100\n",
            "60000/60000 [==============================] - 4s 73us/step - loss: 0.1219 - val_loss: 0.1206\n",
            "Epoch 45/100\n",
            "60000/60000 [==============================] - 5s 75us/step - loss: 0.1216 - val_loss: 0.1209\n",
            "Epoch 46/100\n",
            "60000/60000 [==============================] - 5s 76us/step - loss: 0.1214 - val_loss: 0.1203\n",
            "Epoch 47/100\n",
            "60000/60000 [==============================] - 4s 74us/step - loss: 0.1214 - val_loss: 0.1199\n",
            "Epoch 48/100\n",
            "60000/60000 [==============================] - 4s 74us/step - loss: 0.1212 - val_loss: 0.1202\n",
            "Epoch 49/100\n",
            "60000/60000 [==============================] - 4s 74us/step - loss: 0.1211 - val_loss: 0.1198\n",
            "Epoch 50/100\n",
            "60000/60000 [==============================] - 5s 77us/step - loss: 0.1209 - val_loss: 0.1196\n",
            "Epoch 51/100\n",
            "60000/60000 [==============================] - 5s 75us/step - loss: 0.1208 - val_loss: 0.1194\n",
            "Epoch 52/100\n",
            "60000/60000 [==============================] - 5s 76us/step - loss: 0.1206 - val_loss: 0.1195\n",
            "Epoch 53/100\n",
            "60000/60000 [==============================] - 4s 73us/step - loss: 0.1205 - val_loss: 0.1190\n",
            "Epoch 54/100\n",
            "60000/60000 [==============================] - 4s 74us/step - loss: 0.1204 - val_loss: 0.1195\n",
            "Epoch 55/100\n",
            "60000/60000 [==============================] - 4s 75us/step - loss: 0.1202 - val_loss: 0.1190\n",
            "Epoch 56/100\n",
            "60000/60000 [==============================] - 5s 76us/step - loss: 0.1201 - val_loss: 0.1187\n",
            "Epoch 57/100\n",
            "60000/60000 [==============================] - 5s 75us/step - loss: 0.1201 - val_loss: 0.1192\n",
            "Epoch 58/100\n",
            "60000/60000 [==============================] - 4s 75us/step - loss: 0.1199 - val_loss: 0.1187\n",
            "Epoch 59/100\n",
            "60000/60000 [==============================] - 4s 73us/step - loss: 0.1198 - val_loss: 0.1184\n",
            "Epoch 60/100\n",
            "60000/60000 [==============================] - 5s 76us/step - loss: 0.1197 - val_loss: 0.1185\n",
            "Epoch 61/100\n",
            "60000/60000 [==============================] - 4s 73us/step - loss: 0.1196 - val_loss: 0.1183\n",
            "Epoch 62/100\n",
            "60000/60000 [==============================] - 4s 75us/step - loss: 0.1195 - val_loss: 0.1187\n",
            "Epoch 63/100\n",
            "60000/60000 [==============================] - 5s 75us/step - loss: 0.1194 - val_loss: 0.1185\n",
            "Epoch 64/100\n",
            "60000/60000 [==============================] - 5s 76us/step - loss: 0.1194 - val_loss: 0.1181\n",
            "Epoch 65/100\n",
            "60000/60000 [==============================] - 5s 76us/step - loss: 0.1192 - val_loss: 0.1182\n",
            "Epoch 66/100\n",
            "60000/60000 [==============================] - 4s 73us/step - loss: 0.1191 - val_loss: 0.1178\n",
            "Epoch 67/100\n",
            "60000/60000 [==============================] - 4s 74us/step - loss: 0.1192 - val_loss: 0.1185\n",
            "Epoch 68/100\n",
            "60000/60000 [==============================] - 4s 73us/step - loss: 0.1190 - val_loss: 0.1178\n",
            "Epoch 69/100\n",
            "60000/60000 [==============================] - 5s 77us/step - loss: 0.1190 - val_loss: 0.1178\n",
            "Epoch 70/100\n",
            "60000/60000 [==============================] - 5s 76us/step - loss: 0.1189 - val_loss: 0.1178\n",
            "Epoch 71/100\n",
            "60000/60000 [==============================] - 4s 75us/step - loss: 0.1188 - val_loss: 0.1178\n",
            "Epoch 72/100\n",
            "60000/60000 [==============================] - 4s 73us/step - loss: 0.1187 - val_loss: 0.1176\n",
            "Epoch 73/100\n",
            "60000/60000 [==============================] - 5s 76us/step - loss: 0.1187 - val_loss: 0.1179\n",
            "Epoch 74/100\n",
            "60000/60000 [==============================] - 4s 73us/step - loss: 0.1186 - val_loss: 0.1175\n",
            "Epoch 75/100\n",
            "60000/60000 [==============================] - 5s 76us/step - loss: 0.1185 - val_loss: 0.1174\n",
            "Epoch 76/100\n",
            "60000/60000 [==============================] - 4s 74us/step - loss: 0.1186 - val_loss: 0.1185\n",
            "Epoch 77/100\n",
            "60000/60000 [==============================] - 5s 77us/step - loss: 0.1184 - val_loss: 0.1178\n",
            "Epoch 78/100\n",
            "60000/60000 [==============================] - 5s 76us/step - loss: 0.1185 - val_loss: 0.1171\n",
            "Epoch 79/100\n",
            "60000/60000 [==============================] - 5s 77us/step - loss: 0.1183 - val_loss: 0.1175\n",
            "Epoch 80/100\n",
            "60000/60000 [==============================] - 5s 77us/step - loss: 0.1183 - val_loss: 0.1172\n",
            "Epoch 81/100\n",
            "60000/60000 [==============================] - 5s 75us/step - loss: 0.1183 - val_loss: 0.1171\n",
            "Epoch 82/100\n",
            "60000/60000 [==============================] - 5s 75us/step - loss: 0.1182 - val_loss: 0.1174\n",
            "Epoch 83/100\n",
            "60000/60000 [==============================] - 4s 75us/step - loss: 0.1181 - val_loss: 0.1171\n",
            "Epoch 84/100\n",
            "60000/60000 [==============================] - 4s 73us/step - loss: 0.1181 - val_loss: 0.1175\n",
            "Epoch 85/100\n",
            "60000/60000 [==============================] - 5s 76us/step - loss: 0.1181 - val_loss: 0.1171\n",
            "Epoch 86/100\n",
            "60000/60000 [==============================] - 5s 75us/step - loss: 0.1181 - val_loss: 0.1177\n",
            "Epoch 87/100\n",
            "60000/60000 [==============================] - 4s 74us/step - loss: 0.1179 - val_loss: 0.1168\n",
            "Epoch 88/100\n",
            "60000/60000 [==============================] - 4s 70us/step - loss: 0.1180 - val_loss: 0.1173\n",
            "Epoch 89/100\n",
            "60000/60000 [==============================] - 4s 73us/step - loss: 0.1179 - val_loss: 0.1168\n",
            "Epoch 90/100\n",
            "60000/60000 [==============================] - 5s 76us/step - loss: 0.1179 - val_loss: 0.1165\n",
            "Epoch 91/100\n",
            "60000/60000 [==============================] - 4s 73us/step - loss: 0.1178 - val_loss: 0.1168\n",
            "Epoch 92/100\n",
            "60000/60000 [==============================] - 5s 76us/step - loss: 0.1178 - val_loss: 0.1167\n",
            "Epoch 93/100\n",
            "60000/60000 [==============================] - 5s 75us/step - loss: 0.1178 - val_loss: 0.1166\n",
            "Epoch 94/100\n",
            "60000/60000 [==============================] - 4s 73us/step - loss: 0.1177 - val_loss: 0.1168\n",
            "Epoch 95/100\n",
            "60000/60000 [==============================] - 5s 78us/step - loss: 0.1177 - val_loss: 0.1166\n",
            "Epoch 96/100\n",
            "60000/60000 [==============================] - 4s 73us/step - loss: 0.1177 - val_loss: 0.1166\n",
            "Epoch 97/100\n",
            "60000/60000 [==============================] - 4s 74us/step - loss: 0.1176 - val_loss: 0.1166\n",
            "Epoch 98/100\n",
            "60000/60000 [==============================] - 4s 74us/step - loss: 0.1176 - val_loss: 0.1168\n",
            "Epoch 99/100\n",
            "60000/60000 [==============================] - 4s 74us/step - loss: 0.1176 - val_loss: 0.1165\n",
            "Epoch 100/100\n",
            "60000/60000 [==============================] - 5s 75us/step - loss: 0.1175 - val_loss: 0.1165\n"
          ],
          "name": "stdout"
        }
      ]
    },
    {
      "cell_type": "code",
      "metadata": {
        "id": "nxZaCygA4Bjl",
        "colab_type": "code",
        "colab": {
          "base_uri": "https://localhost:8080/",
          "height": 316
        },
        "outputId": "1edc85d2-8ff0-44e5-be8e-10293c85046c"
      },
      "source": [
        "N = np.arange(0,epochs)\n",
        "plt.style.use(\"ggplot\")\n",
        "plt.figure()\n",
        "plt.plot(N, H.history[\"loss\"], label= \"train_loss\")\n",
        "plt.plot(N, H.history[\"val_loss\"], label= \"val_loss\")\n",
        "plt.legend(loc=\"upper right\")\n",
        "plt.title(\"Loss vs Epochs\")\n",
        "plt.xlabel(\"Epochs\")\n",
        "plt.ylabel(\"Loss\")"
      ],
      "execution_count": 5,
      "outputs": [
        {
          "output_type": "execute_result",
          "data": {
            "text/plain": [
              "Text(0, 0.5, 'Loss')"
            ]
          },
          "metadata": {
            "tags": []
          },
          "execution_count": 5
        },
        {
          "output_type": "display_data",
          "data": {
            "image/png": "[encoded data removed]",
            "text/plain": [
              "<Figure size 432x288 with 1 Axes>"
            ]
          },
          "metadata": {
            "tags": []
          }
        }
      ]
    },
    {
      "cell_type": "code",
      "metadata": {
        "id": "GpXYqjDLe0bN",
        "colab_type": "code",
        "outputId": "88134b64-c37a-4c17-8155-26d39fdfa6c9",
        "colab": {
          "base_uri": "https://localhost:8080/",
          "height": 248
        }
      },
      "source": [
        "n = 10\n",
        "plt.figure(figsize=(20, 4))\n",
        "for i in range(1,n+1):\n",
        "    # display original\n",
        "    ax = plt.subplot(2, n, i)\n",
        "    plt.imshow(x_test_noisy[i].reshape(28, 28))\n",
        "    plt.gray()\n",
        "    ax.get_xaxis().set_visible(False)\n",
        "    ax.get_yaxis().set_visible(False)\n",
        "\n",
        "    # display reconstruction\n",
        "    ax = plt.subplot(2, n, i + n)\n",
        "    plt.imshow(decoded_imgs[i].reshape(28, 28))\n",
        "    plt.gray()\n",
        "    ax.get_xaxis().set_visible(False)\n",
        "    ax.get_yaxis().set_visible(False)\n",
        "plt.show()"
      ],
      "execution_count": 6,
      "outputs": [
        {
          "output_type": "display_data",
          "data": {
            "image/png": "[encoded data removed]",
            "text/plain": [
              "<Figure size 1440x288 with 20 Axes>"
            ]
          },
          "metadata": {
            "tags": []
          }
        }
      ]
    },
    {
      "cell_type": "code",
      "metadata": {
        "id": "MyPVM5FCU1Zs",
        "colab_type": "code",
        "colab": {}
      },
      "source": [
        ""
      ],
      "execution_count": 0,
      "outputs": []
    }
  ]
}